{
 "cells": [
  {
   "cell_type": "markdown",
   "id": "8b11badc",
   "metadata": {},
   "source": [
    "IMPORTING RECORD"
   ]
  },
  {
   "cell_type": "code",
   "execution_count": 1,
   "id": "3de1e002",
   "metadata": {},
   "outputs": [],
   "source": [
    "import json\n",
    "\n",
    "file1 = open(\"record.json\",'r')\n",
    "js = file1.read()\n",
    "file1.close()\n",
    "\n",
    "records = json.loads(js)"
   ]
  },
  {
   "cell_type": "code",
   "execution_count": 2,
   "id": "8dc74ebb",
   "metadata": {},
   "outputs": [
    {
     "data": {
      "text/plain": [
       "{'1001': {'name': 'Detergent',\n",
       "  'quantity': '3kg packet',\n",
       "  'price': 500,\n",
       "  'expiry-date': '12-2023',\n",
       "  'stock': 100},\n",
       " '1002': {'name': 'Body soap',\n",
       "  'quantity': '1 bar',\n",
       "  'price': 50,\n",
       "  'expiry-date': '12-2023',\n",
       "  'stock': 494},\n",
       " '1003': {'name': 'Toothpaste',\n",
       "  'quantity': '170 gm tube',\n",
       "  'price': 70,\n",
       "  'expiry-date': '12-2023',\n",
       "  'stock': 500},\n",
       " '1004': {'name': 'Shampoo',\n",
       "  'quantity': '800 ml',\n",
       "  'price': 100,\n",
       "  'expiry-date': '12-2023',\n",
       "  'stock': 500},\n",
       " '1005': {'name': 'Conditioner',\n",
       "  'quantity': '800 ml',\n",
       "  'price': 150,\n",
       "  'expiry-date': '12-2023',\n",
       "  'stock': 500},\n",
       " '1006': {'name': 'Toilet cleaner',\n",
       "  'quantity': '709 ml',\n",
       "  'price': 70,\n",
       "  'expiry-date': '12-2023',\n",
       "  'stock': 499},\n",
       " '1007': {'name': 'Floor cleaner',\n",
       "  'quantity': '709 ml',\n",
       "  'price': 100,\n",
       "  'expiry-date': '12-2023',\n",
       "  'stock': 500},\n",
       " '1008': {'name': 'Maida (All purpose flour)',\n",
       "  'quantity': '1kg packet',\n",
       "  'price': 50,\n",
       "  'expiry-date': '12-2023',\n",
       "  'stock': 500},\n",
       " '1009': {'name': 'Wheat flour',\n",
       "  'quantity': '3kg packet',\n",
       "  'price': 250,\n",
       "  'expiry-date': '12-2023',\n",
       "  'stock': 499},\n",
       " '1010': {'name': 'Rice - Dawat',\n",
       "  'quantity': '1 kg packet',\n",
       "  'price': 250,\n",
       "  'expiry-date': '12-2023',\n",
       "  'stock': 500},\n",
       " '1011': {'name': 'Rice - Dawat',\n",
       "  'quantity': '5 kg packet',\n",
       "  'price': 1000,\n",
       "  'expiry-date': '12-2023',\n",
       "  'stock': 500},\n",
       " '1012': {'name': 'Rice - Dawat',\n",
       "  'quantity': '10 kg packet',\n",
       "  'price': 3500,\n",
       "  'expiry-date': '12-2023',\n",
       "  'stock': 500},\n",
       " '1013': {'name': 'Rice - India Gate',\n",
       "  'quantity': '5 kg packet',\n",
       "  'price': 1000,\n",
       "  'expiry-date': '12-2023',\n",
       "  'stock': 500},\n",
       " '1014': {'name': 'Rice flour',\n",
       "  'quantity': '1 kg packet',\n",
       "  'price': 70,\n",
       "  'expiry-date': '12-2023',\n",
       "  'stock': 498},\n",
       " '1015': {'name': 'Ghee jar',\n",
       "  'quantity': '500 ml',\n",
       "  'price': 300,\n",
       "  'expiry-date': '12-2022',\n",
       "  'stock': 498},\n",
       " '1016': {'name': 'Coconut hair oil',\n",
       "  'quantity': '1000 ml',\n",
       "  'price': 2000,\n",
       "  'expiry-date': '12-2023',\n",
       "  'stock': 498},\n",
       " '1017': {'name': 'Extra virgin coconut oil',\n",
       "  'quantity': '1000 mg',\n",
       "  'price': 3000,\n",
       "  'expiry-date': '12-2023',\n",
       "  'stock': 500},\n",
       " '1018': {'name': 'Extra virgin olive oil',\n",
       "  'quantity': '100 ml',\n",
       "  'price': 160,\n",
       "  'expiry-date': '12-2023',\n",
       "  'stock': 499},\n",
       " '1019': {'name': 'Refined sunflower oil -  Fortune',\n",
       "  'quantity': '1000 ml',\n",
       "  'price': 300,\n",
       "  'expiry-date': '12-2023',\n",
       "  'stock': 500},\n",
       " '1020': {'name': 'Refined sunflower oil - Sundrop',\n",
       "  'quantity': '1000 ml',\n",
       "  'price': 450,\n",
       "  'expiry-date': '12-2023',\n",
       "  'stock': 500},\n",
       " '1021': {'name': 'Marie gold biscuit',\n",
       "  'quantity': '200 gm packet',\n",
       "  'price': 50,\n",
       "  'stock': 499},\n",
       " '1022': {'name': 'Good day biscuits',\n",
       "  'quantity': '200 gm pack',\n",
       "  'price': 30,\n",
       "  'stock': 500},\n",
       " '1023': {'name': 'Monico biscuits',\n",
       "  'quantity': '200 gm packet',\n",
       "  'price': 35,\n",
       "  'stock': 500},\n",
       " '1024': {'name': 'Oreo biscuits',\n",
       "  'quantity': '200 gm packet',\n",
       "  'price': 50,\n",
       "  'stock': 499},\n",
       " '1025': {'name': 'Moong dal',\n",
       "  'quantity': '2 kg packet',\n",
       "  'price': 250,\n",
       "  'stock': 500},\n",
       " '1026': {'name': 'Tur dal',\n",
       "  'quantity': '2 kg packet',\n",
       "  'price': 250,\n",
       "  'stock': 500},\n",
       " '1027': {'name': 'Chana dal',\n",
       "  'quantity': '2 kg packet',\n",
       "  'price': 250,\n",
       "  'stock': 500},\n",
       " '1028': {'name': \"Lays- India's magic masala flavour\",\n",
       "  'quantity': '15 grams',\n",
       "  'price': 10,\n",
       "  'stock': 0}}"
      ]
     },
     "execution_count": 2,
     "metadata": {},
     "output_type": "execute_result"
    }
   ],
   "source": [
    "records"
   ]
  },
  {
   "cell_type": "code",
   "execution_count": 3,
   "id": "22c41ece",
   "metadata": {},
   "outputs": [
    {
     "data": {
      "text/plain": [
       "['28']"
      ]
     },
     "execution_count": 3,
     "metadata": {},
     "output_type": "execute_result"
    }
   ],
   "source": [
    "[str(len(records))]"
   ]
  },
  {
   "cell_type": "markdown",
   "id": "5a38f2d3",
   "metadata": {},
   "source": [
    "ADDING NEW PRODUCTS"
   ]
  },
  {
   "cell_type": "code",
   "execution_count": 5,
   "id": "01b3ca8e",
   "metadata": {},
   "outputs": [
    {
     "name": "stdout",
     "output_type": "stream",
     "text": [
      "Enter product id:1028\n",
      "Enter quantity:10\n",
      "Product quantity has been updated successfully!!\n"
     ]
    }
   ],
   "source": [
    "flag = 0\n",
    "\n",
    "product_id = str(input(\"Enter product id:\"))\n",
    "\n",
    "for i in records.keys():\n",
    "    if (i == product_id):\n",
    "        product_quan = int(input(\"Enter quantity:\"))\n",
    "        records[product_id]['stock']=records[product_id]['stock'] + product_quan\n",
    "        flag=1\n",
    "        print ('Product quantity has been updated successfully!!')\n",
    "if (flag!=1):\n",
    "    name = str(input(\"Product name: \"))\n",
    "    quantity = str(input(\"Quantity of product: \"))\n",
    "    price = int(input(\"Price :\"))\n",
    "    stock = int(input(\"Stock loaded: \"))\n",
    "    record[product_id] = {'name': name, 'quantity': quantity, 'price': price, 'stock': stock}\n",
    "    print('New product added to the inventory successfully!!')\n",
    "\n",
    "\n",
    "js = json.dumps(records)\n",
    "fd = open(\"record.json\",'w')\n",
    "fd.write(js)\n",
    "fd.close()"
   ]
  },
  {
   "cell_type": "code",
   "execution_count": null,
   "id": "aa7559f8",
   "metadata": {},
   "outputs": [],
   "source": []
  }
 ],
 "metadata": {
  "kernelspec": {
   "display_name": "Python 3",
   "language": "python",
   "name": "python3"
  },
  "language_info": {
   "codemirror_mode": {
    "name": "ipython",
    "version": 3
   },
   "file_extension": ".py",
   "mimetype": "text/x-python",
   "name": "python",
   "nbconvert_exporter": "python",
   "pygments_lexer": "ipython3",
   "version": "3.8.8"
  }
 },
 "nbformat": 4,
 "nbformat_minor": 5
}
