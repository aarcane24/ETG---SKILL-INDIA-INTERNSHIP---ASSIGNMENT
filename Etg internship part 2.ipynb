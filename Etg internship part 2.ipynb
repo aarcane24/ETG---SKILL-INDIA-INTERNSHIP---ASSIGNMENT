{
 "cells": [
  {
   "cell_type": "code",
   "execution_count": 66,
   "id": "1af8b68b",
   "metadata": {},
   "outputs": [],
   "source": [
    "import json\n",
    "import time\n",
    "\n",
    "file2 = open(\"record.json\",'r')\n",
    "j = file2.read()\n",
    "file2.close()\n",
    "\n",
    "records = json.loads(j)"
   ]
  },
  {
   "cell_type": "code",
   "execution_count": 67,
   "id": "3ee8dd7b",
   "metadata": {},
   "outputs": [],
   "source": [
    "#records"
   ]
  },
  {
   "cell_type": "code",
   "execution_count": 68,
   "id": "4a4f56fd",
   "metadata": {},
   "outputs": [],
   "source": [
    "sales = {'prod' : user_prodid, 'name': records[user_prodid]['name'], 'quantity_purchased' : user_prodquan, 'total_amount': records[user_prodid]['price'] * user_prodquan}"
   ]
  },
  {
   "cell_type": "code",
   "execution_count": 70,
   "id": "3be6323b",
   "metadata": {},
   "outputs": [
    {
     "name": "stdout",
     "output_type": "stream",
     "text": [
      "***************************************\n",
      "Welcome to Suvidha Stores\n",
      "***************************************\n",
      "Enter the product id: 1016\n",
      "Enter the quantity you require: 1\n",
      "Product is available\n",
      "Billing time:\n",
      "Mon Sep  6 18:19:21 2021\n",
      "Product:  Coconut hair oil\n",
      "Price:  2000\n",
      "Quantity required by user:  1\n",
      "Billing Amount:  2000\n",
      "Stock left: \n",
      "497\n"
     ]
    }
   ],
   "source": [
    "flag=0\n",
    "instock=0\n",
    "remaining=0\n",
    "\n",
    "print(\"***************************************\")\n",
    "\n",
    "print(\"Welcome to Suvidha Stores\")\n",
    "\n",
    "print(\"***************************************\")\n",
    "\n",
    "\n",
    "user_prodid  = str(input(\"Enter the product id: \"))\n",
    "for i in records.keys():\n",
    "        if (i == user_prodid):\n",
    "            user_prodquan = int(input(\"Enter the quantity you require: \"))\n",
    "            flag=1\n",
    "            instock = records[user_prodid]['stock']\n",
    "\n",
    "            if (instock > 0):\n",
    "                print('Product is available')\n",
    "                if (instock > user_prodquan) :\n",
    "                    print('Billing time:')\n",
    "                    print(time.ctime())\n",
    "                    print(\"Product: \", records[user_prodid]['name'])\n",
    "                    print(\"Price: \", records[user_prodid]['price'])\n",
    "                    print(\"Quantity required by user: \", user_prodquan)\n",
    "                    print(\"Billing Amount: \", records[user_prodid]['price'] * user_prodquan)\n",
    "            \n",
    "                    records[user_prodid]['stock'] = records[user_prodid]['stock'] - user_prodquan\n",
    "                    remaining = records[user_prodid]['stock']\n",
    "                    print('Stock left: ')\n",
    "                    print(remaining)\n",
    "                    sales[len(sales)+1] = {'prod_id': user_prodid, 'name': records[user_prodid]['name'], 'Quantity': user_prodquan, 'Amount':  records[user_prodid]['price'] * user_prodquan}\n",
    "                    \n",
    "                else:\n",
    "                    print('instock: ')\n",
    "                    print(instock)\n",
    "                \n",
    "                    user_consent = str(input(\"If you want to purchase, type y: \"))\n",
    "                    if(user_consent == 'y'):\n",
    "                        print('Billing time:')\n",
    "                        print(time.ctime())\n",
    "                        print(\"Product: \", records[user_prodid]['name'])\n",
    "                        print(\"Price: \", records[user_prodid]['price'])\n",
    "                        print(\"Quantity required by user: \", user_prodquan)\n",
    "                        print(\"Billing Amount: \", records[user_prodid]['price'] * instock)\n",
    "                        records[user_prodid]['stock'] = 0\n",
    "                        remaining = 0\n",
    "                        print('Stock left: ')\n",
    "                        print(remaining)\n",
    "                        sales[len(sales)+1] = {'prod_id': user_prodid, 'name': records[user_prodid]['name'], 'Quantity': user_prodquan, 'Amount':instock*records[user_prodid]['price']}\n",
    "                        \n",
    "                    else:\n",
    "                        print(\"Sorry for inconvinience\")\n",
    "                        \n",
    "            else:\n",
    "                print(\"Sorry we are running out of this product :(\") \n",
    "                \n",
    "            if (flag==0):\n",
    "                print(\"Product not found\")\n",
    "               \n",
    "j = json.dumps(records)\n",
    "fd = open(\"record.json\",'w')\n",
    "fd.write(j)\n",
    "fd.close()"
   ]
  },
  {
   "cell_type": "code",
   "execution_count": 71,
   "id": "b4cc581f",
   "metadata": {},
   "outputs": [
    {
     "data": {
      "text/plain": [
       "{'id': 7,\n",
       " 'prod': '1024',\n",
       " 'name': 'Oreo biscuits',\n",
       " 'quantity_purchased': 1,\n",
       " 'total_amount': 50,\n",
       " 6: {'prod_id': '1015', 'name': 'Ghee jar', 'Quantity': 1, 'Amount': 300},\n",
       " 7: {'prod_id': '1016',\n",
       "  'name': 'Coconut hair oil',\n",
       "  'Quantity': 1,\n",
       "  'Amount': 2000}}"
      ]
     },
     "execution_count": 71,
     "metadata": {},
     "output_type": "execute_result"
    }
   ],
   "source": [
    "sales"
   ]
  },
  {
   "cell_type": "code",
   "execution_count": 73,
   "id": "b0f8647f",
   "metadata": {},
   "outputs": [],
   "source": [
    "jso = json.dumps(sales)\n",
    "fd = open(\"sale.json\",'a')\n",
    "fd.write(jso)\n",
    "fd.close()"
   ]
  },
  {
   "cell_type": "code",
   "execution_count": 75,
   "id": "b01fb998",
   "metadata": {},
   "outputs": [],
   "source": [
    "fd = open(\"sale.json\",'r')\n",
    "text= fd.read()"
   ]
  },
  {
   "cell_type": "code",
   "execution_count": 77,
   "id": "ee9201fe",
   "metadata": {},
   "outputs": [
    {
     "data": {
      "text/plain": [
       "'{\"1\": {\"prod_id\": \"1014\", \"name\": \"Rice flour\", \"Quantity\": 2, \"Amount\": 140}}, \\\\n{\"2\": {\"prod_id\": \"1009\", \"name\": \"Wheat flour\", \"Quantity\": 1, \"Amount\": 250}},\\\\n{\"3\": {\"prod_id\": \"1009\", \"name\": \"Wheat flour\", \"Quantity\": 1, \"Amount\": 250}},\\\\n{\"4\": {\"prod_id\": \"1018\", \"name\": \"Extra virgin olive oil\", \"Quantity\": 1, \"Amount\": 160}}}\\\\n\\\\n{\"id\": 6, \"prod\": \"1024\", \"name\": \"Oreo biscuits\", \"quantity_purchased\": 1, \"total_amount\": 50}\\'{\"id\": 6, \"prod\": \"1028\", \"name\": \"Lays- India\\'s magic masala flavour\", \"quantity_purchased\": 1, \"total_amount\": 10, \"6\": {\"prod_id\": \"1024\", \"name\": \"Oreo biscuits\", \"Quantity\": 1, \"Amount\": 50}}{\"id\": 7, \"prod\": \"1024\", \"name\": \"Oreo biscuits\", \"quantity_purchased\": 1, \"total_amount\": 50, \"6\": {\"prod_id\": \"1015\", \"name\": \"Ghee jar\", \"Quantity\": 1, \"Amount\": 300}}{\"id\": 7, \"prod\": \"1024\", \"name\": \"Oreo biscuits\", \"quantity_purchased\": 1, \"total_amount\": 50, \"6\": {\"prod_id\": \"1015\", \"name\": \"Ghee jar\", \"Quantity\": 1, \"Amount\": 300}, \"7\": {\"prod_id\": \"1016\", \"name\": \"Coconut hair oil\", \"Quantity\": 1, \"Amount\": 2000}}'"
      ]
     },
     "execution_count": 77,
     "metadata": {},
     "output_type": "execute_result"
    }
   ],
   "source": [
    "text"
   ]
  },
  {
   "cell_type": "code",
   "execution_count": null,
   "id": "f4955ab1",
   "metadata": {},
   "outputs": [],
   "source": []
  }
 ],
 "metadata": {
  "kernelspec": {
   "display_name": "Python 3",
   "language": "python",
   "name": "python3"
  },
  "language_info": {
   "codemirror_mode": {
    "name": "ipython",
    "version": 3
   },
   "file_extension": ".py",
   "mimetype": "text/x-python",
   "name": "python",
   "nbconvert_exporter": "python",
   "pygments_lexer": "ipython3",
   "version": "3.8.8"
  }
 },
 "nbformat": 4,
 "nbformat_minor": 5
}
